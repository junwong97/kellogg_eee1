{
 "cells": [
  {
   "cell_type": "code",
   "execution_count": 37,
   "id": "vital-retail",
   "metadata": {},
   "outputs": [],
   "source": [
    "using LinearAlgebra, BenchmarkTools, SparseArrays, Plots"
   ]
  },
  {
   "cell_type": "markdown",
   "id": "qualified-platinum",
   "metadata": {},
   "source": [
    "# Discrete state space"
   ]
  },
  {
   "cell_type": "markdown",
   "id": "coastal-amendment",
   "metadata": {},
   "source": [
    "Construct state and action space"
   ]
  },
  {
   "cell_type": "code",
   "execution_count": 105,
   "id": "automatic-methodology",
   "metadata": {},
   "outputs": [],
   "source": [
    "S = collect(0:2:1000);\n",
    "N = size(S,1);\n",
    "A = collect(0:2:1000); # Action space is how many units I can extract, let this be the same as the state space \n",
    "\n",
    "indexed_states = zeros(size(S,1), size(A,1));\n"
   ]
  },
  {
   "cell_type": "markdown",
   "id": "proud-extent",
   "metadata": {},
   "source": [
    "Define utility functions"
   ]
  },
  {
   "cell_type": "code",
   "execution_count": 3,
   "id": "amateur-stockholm",
   "metadata": {},
   "outputs": [
    {
     "data": {
      "text/plain": [
       "#3 (generic function with 1 method)"
      ]
     },
     "execution_count": 3,
     "metadata": {},
     "output_type": "execute_result"
    }
   ],
   "source": [
    "U1 = function(x)\n",
    "   2 * x^0.5 \n",
    "end\n",
    "\n",
    "U2 = function(x)\n",
    "    5 * x - 0.05 * x ^ 2\n",
    "end"
   ]
  },
  {
   "cell_type": "markdown",
   "id": "governmental-intro",
   "metadata": {},
   "source": [
    "Flow utility"
   ]
  },
  {
   "cell_type": "code",
   "execution_count": 4,
   "id": "revised-things",
   "metadata": {
    "scrolled": true
   },
   "outputs": [
    {
     "data": {
      "text/plain": [
       "#5 (generic function with 1 method)"
      ]
     },
     "execution_count": 4,
     "metadata": {},
     "output_type": "execute_result"
    }
   ],
   "source": [
    "find_flow = function(ut)\n",
    "    flow_U = zeros(size(S,1), size(A,1));\n",
    "    for i in 1:size(S,1) #stock \n",
    "        for j in 1:size(A,1) #extraction\n",
    "            if j <= i \n",
    "                if ut == 1 \n",
    "                    flow_U[i,j] = U1(A[j]) # this is the flow utility at time t if I extract j with stock i remaining\n",
    "                elseif ut == 2\n",
    "                    flow_U[i,j] = U2(A[j])\n",
    "                end\n",
    "            else \n",
    "               flow_U[i,j] = -99999 # if j > i, i.e. extraction > stock, utility is -inf  \n",
    "            end\n",
    "        end\n",
    "    end\n",
    "    \n",
    "    return flow_U\n",
    "end\n"
   ]
  },
  {
   "cell_type": "markdown",
   "id": "fewer-writer",
   "metadata": {},
   "source": [
    "Find index of state in t+1 given action in t"
   ]
  },
  {
   "cell_type": "code",
   "execution_count": 5,
   "id": "difficult-member",
   "metadata": {},
   "outputs": [],
   "source": [
    "state_index_t1 = zeros(size(S,1), size(A,1))\n",
    "\n",
    "for i in 1:size(S,1)\n",
    "    for j in 1:size(A,1)\n",
    "        if j <= i\n",
    "            left = S[i] - A[j]\n",
    "            state_index_t1[i,j] = findall(x->x==left, S)[1]\n",
    "        else\n",
    "            state_index_t1[i,j] = 1 # it will be stock = 0 if I try to extract more than I have\n",
    "         end\n",
    "    end\n",
    "end\n"
   ]
  },
  {
   "cell_type": "markdown",
   "id": "little-father",
   "metadata": {},
   "source": [
    "Now construct a transition matrix"
   ]
  },
  {
   "cell_type": "code",
   "execution_count": 6,
   "id": "soviet-elements",
   "metadata": {},
   "outputs": [],
   "source": [
    "# you need to find the state + action index of each column index\n",
    "colindex = []\n",
    "iter = 0 \n",
    "for j in 1:size(A, 1)\n",
    "    for i in 1:size(S,1)\n",
    "        iter += 1 \n",
    "        push!(colindex, [iter, i, j])\n",
    "    end\n",
    "end\n",
    "\n",
    "# i,j = 1 iff state_index_t1 says I transition to j given action A \n",
    "# (this is a horrible way to constructing my sparse matrix but whatever)\n",
    "v = Float64[]\n",
    "r = []\n",
    "c = []\n",
    "for i in 1:size(S,1)\n",
    "    for j in 1:size(colindex,1)\n",
    "        if state_index_t1[i,colindex[j][3]] == colindex[j][2]\n",
    "            push!(r, i)\n",
    "            push!(c, colindex[j][1])\n",
    "            push!(v, 1)\n",
    "        end\n",
    "    end\n",
    "end"
   ]
  },
  {
   "cell_type": "code",
   "execution_count": 7,
   "id": "funky-class",
   "metadata": {
    "scrolled": true
   },
   "outputs": [
    {
     "data": {
      "text/plain": [
       "501×250501 SparseMatrixCSC{Float64, Int64} with 251001 stored entries:\n",
       "⠛⠛⠛⠛⠛⠛⠛⠛⠛⠛⠛⠛⠛⠛⠛⠛⠛⠛⠛⠛⠛⠛⠛⠛⠛⠛⠛⠛⠛⠛⠛⠛⠛⠛⠛⠛⠛⠛⠛⠛"
      ]
     },
     "execution_count": 7,
     "metadata": {},
     "output_type": "execute_result"
    }
   ],
   "source": [
    "T = sparse(r, c, v)"
   ]
  },
  {
   "cell_type": "markdown",
   "id": "processed-warrant",
   "metadata": {},
   "source": [
    "Now let's try iterating"
   ]
  },
  {
   "cell_type": "code",
   "execution_count": 41,
   "id": "comfortable-paste",
   "metadata": {},
   "outputs": [],
   "source": [
    "iterate_wrapper = function(utility_fn, discount, tol)\n",
    "    U = find_flow(utility_fn)\n",
    "    δ = discount\n",
    "    err = 1\n",
    "    v = zeros(size(S,1),1)\n",
    "    \n",
    "    iter = 0\n",
    "    while err > tol\n",
    "        iter += 1\n",
    "        v_old = v\n",
    "\n",
    "        # calculate v_next given each action\n",
    "        Vₙₑₓₜ = zeros(size(S,1), size(A,1))\n",
    "        for x in 1:size(A,1)-1\n",
    "            Vₙₑₓₜ[:,x] = T[:, 1+size(S,1) * (x-1):501+size(S,1) * (x-1)] * U[:,x]\n",
    "        end\n",
    "\n",
    "        #println(Vₙₑₓₜ)\n",
    "\n",
    "        # find optimal action over each state and action \n",
    "        v = maximum(U + δ .* Vₙₑₓₜ, dims=2) \n",
    "        gₖ = argmax(U + δ .* Vₙₑₓₜ, dims=2)\n",
    "\n",
    "        # something is definitely wrong here we are not using the new optimal value function\n",
    "        #U = \n",
    "\n",
    "        #println(maximum(abs.(v .- v_old)))\n",
    "        err = maximum(abs.(v .- v_old))\n",
    "    end\n",
    "    \n",
    "    return [v, gₖ, err, iter]\n",
    "end"
   ]
  },
  {
   "cell_type": "markdown",
   "id": "intelligent-defensive",
   "metadata": {},
   "source": [
    "Find optimal transition path"
   ]
  },
  {
   "cell_type": "code",
   "execution_count": null,
   "id": "assisted-congress",
   "metadata": {},
   "outputs": [],
   "source": [
    "simulate_paths = function(oc, time)\n",
    "    stock = 1000\n",
    "    df = []\n",
    "    \n",
    "    for t=1:time\n",
    "        state_i = findall(x->x==stock, S)\n",
    "        action_j = oc[state_i, 2][1]\n",
    "        stock = stock - A[action_j]\n",
    "        push!(df, [t, stock, A[action_j]])\n",
    "    end\n",
    "    \n",
    "    # how to calculate prices?\n",
    "    \n",
    "    return df\n",
    "end"
   ]
  },
  {
   "cell_type": "markdown",
   "id": "pharmaceutical-difference",
   "metadata": {},
   "source": [
    "# Interpolating between states"
   ]
  },
  {
   "cell_type": "code",
   "execution_count": 113,
   "id": "interpreted-occurrence",
   "metadata": {},
   "outputs": [],
   "source": [
    "S = collect(0:2:1000);\n",
    "N = size(S,1);\n",
    "A = collect(range(0, sqrt(1000), 501)).^2;\n"
   ]
  },
  {
   "cell_type": "markdown",
   "id": "phantom-sullivan",
   "metadata": {},
   "source": [
    "Find state transition matrix"
   ]
  },
  {
   "cell_type": "code",
   "execution_count": 157,
   "id": "turned-pollution",
   "metadata": {},
   "outputs": [],
   "source": [
    "# this feels so inefficient...\n",
    "state_index_t1 = Array{Array}(undef, size(S,1), size(A,1))\n",
    "\n",
    "for i in 1:size(S,1)\n",
    "    for j in 1:size(A,1)\n",
    "        if j <= i\n",
    "            left = S[i] - A[j]\n",
    "            # if action lines up exactly with a state \n",
    "            if length(findall(x->x==left, S)) != 0 \n",
    "                state_index_t1[i,j] = [findall(x->x==left, S)[1]]\n",
    "            else \n",
    "                \n",
    "                # try to extract the closest state space on the left and right\n",
    "                difference = S .- left \n",
    "                posmin = Inf;\n",
    "                negmax = -Inf;\n",
    "                for d in 1:length(difference)\n",
    "                    if 0 <= difference[d] <= posmin\n",
    "                        posmin=difference[d] \n",
    "                    end\n",
    "                    \n",
    "                    if 0 >= difference[d] >= negmax\n",
    "                        negmax=difference[d]\n",
    "                    end\n",
    "                end\n",
    "                pos = findall(x->x==posmin, difference)[1]\n",
    "                neg = findall(x->x==negmax, difference)[1]\n",
    "                \n",
    "                # get the weights since we already calculated the difference\n",
    "                sumdiff = abs(difference[pos]) + abs(difference[neg])\n",
    "                negweight = abs(difference[neg])/sumdiff \n",
    "                posweight = abs(difference[pos])/sumdiff\n",
    "                \n",
    "                state_index_t1[i,j] = [neg, pos, negweight, posweight]\n",
    "            end \n",
    "        else\n",
    "            state_index_t1[i,j] = [1] # it will be stock = 0 if I try to extract more than I have\n",
    "        end\n",
    "    end\n",
    "end\n"
   ]
  },
  {
   "cell_type": "markdown",
   "id": "sharing-fancy",
   "metadata": {},
   "source": [
    "Interpolating the transition matrix"
   ]
  },
  {
   "cell_type": "code",
   "execution_count": 114,
   "id": "signed-parade",
   "metadata": {},
   "outputs": [],
   "source": [
    "colindex = []\n",
    "iter = 0 \n",
    "for j in 1:size(A, 1)\n",
    "    for i in 1:size(S,1)\n",
    "        iter += 1 \n",
    "        push!(colindex, [iter, i, j])\n",
    "    end\n",
    "end"
   ]
  },
  {
   "cell_type": "code",
   "execution_count": 115,
   "id": "animated-bernard",
   "metadata": {},
   "outputs": [
    {
     "data": {
      "text/plain": [
       "251001-element Vector{Any}:\n",
       " [1, 1, 1]\n",
       " [2, 2, 1]\n",
       " [3, 3, 1]\n",
       " [4, 4, 1]\n",
       " [5, 5, 1]\n",
       " [6, 6, 1]\n",
       " [7, 7, 1]\n",
       " [8, 8, 1]\n",
       " [9, 9, 1]\n",
       " [10, 10, 1]\n",
       " [11, 11, 1]\n",
       " [12, 12, 1]\n",
       " [13, 13, 1]\n",
       " ⋮\n",
       " [250990, 490, 501]\n",
       " [250991, 491, 501]\n",
       " [250992, 492, 501]\n",
       " [250993, 493, 501]\n",
       " [250994, 494, 501]\n",
       " [250995, 495, 501]\n",
       " [250996, 496, 501]\n",
       " [250997, 497, 501]\n",
       " [250998, 498, 501]\n",
       " [250999, 499, 501]\n",
       " [251000, 500, 501]\n",
       " [251001, 501, 501]"
      ]
     },
     "execution_count": 115,
     "metadata": {},
     "output_type": "execute_result"
    }
   ],
   "source": [
    "v = Float64[]\n",
    "r = []\n",
    "c = []\n",
    "for i in 1:size(S,1)\n",
    "    for j in 1:size(colindex,1)\n",
    "        \n",
    "        if state_index_t1[i,colindex[j][3]] == colindex[j][2]\n",
    "            push!(r, i)\n",
    "            push!(c, colindex[j][1])\n",
    "            push!(v, 1)\n",
    "        end\n",
    "    end\n",
    "end"
   ]
  },
  {
   "cell_type": "code",
   "execution_count": null,
   "id": "departmental-auction",
   "metadata": {},
   "outputs": [],
   "source": [
    "# you need to find the state + action index of each column index\n",
    "colindex = []\n",
    "iter = 0 \n",
    "for j in 1:size(A, 1)\n",
    "    for i in 1:size(S,1)\n",
    "        iter += 1 \n",
    "        push!(colindex, [iter, i, j])\n",
    "    end\n",
    "end\n",
    "\n",
    "# i,j = 1 iff state_index_t1 says I transition to j given action A \n",
    "# (this is a horrible way to constructing my sparse matrix but whatever)\n",
    "v = Float64[]\n",
    "r = []\n",
    "c = []\n",
    "for i in 1:size(S,1)\n",
    "    for j in 1:size(colindex,1)\n",
    "        if state_index_t1[i,colindex[j][3]] == colindex[j][2]\n",
    "            push!(r, i)\n",
    "            push!(c, colindex[j][1])\n",
    "            push!(v, 1)\n",
    "        end\n",
    "    end\n",
    "end"
   ]
  }
 ],
 "metadata": {
  "kernelspec": {
   "display_name": "Julia 1.8.2",
   "language": "julia",
   "name": "julia-1.8"
  },
  "language_info": {
   "file_extension": ".jl",
   "mimetype": "application/julia",
   "name": "julia",
   "version": "1.8.2"
  }
 },
 "nbformat": 4,
 "nbformat_minor": 5
}
