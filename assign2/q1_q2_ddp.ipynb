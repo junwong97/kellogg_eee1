{
 "cells": [
  {
   "cell_type": "markdown",
   "id": "incredible-stuart",
   "metadata": {},
   "source": [
    "# Extraction"
   ]
  },
  {
   "cell_type": "code",
   "execution_count": 1,
   "id": "vital-retail",
   "metadata": {},
   "outputs": [],
   "source": [
    "using LinearAlgebra, BenchmarkTools, SparseArrays, Plots\n",
    "cd(\"/Users/junwong/Dropbox/Second Year/Kellogg - Environmental/Assignments\")"
   ]
  },
  {
   "cell_type": "markdown",
   "id": "qualified-platinum",
   "metadata": {},
   "source": [
    "# 1. Discrete state space"
   ]
  },
  {
   "cell_type": "markdown",
   "id": "coastal-amendment",
   "metadata": {},
   "source": [
    "## Construct state & action spaces"
   ]
  },
  {
   "cell_type": "code",
   "execution_count": 2,
   "id": "automatic-methodology",
   "metadata": {},
   "outputs": [],
   "source": [
    "S = collect(0:2:1000);\n",
    "N = size(S,1);\n",
    "A = collect(0:2:1000); # Action space is how many units I can extract, let this be the same as the state space \n",
    "δ = 1/1.05;\n",
    "indexed_states = zeros(size(S,1), size(A,1));\n"
   ]
  },
  {
   "cell_type": "markdown",
   "id": "proud-extent",
   "metadata": {},
   "source": [
    "## Define utility functions"
   ]
  },
  {
   "cell_type": "code",
   "execution_count": 3,
   "id": "amateur-stockholm",
   "metadata": {},
   "outputs": [],
   "source": [
    "U1(x) = 2 * x^0.5 ;\n",
    "MU1(x) = x ^ -0.5;\n",
    "U2(x) = 5 * x - 0.05 * (x ^ 2);\n",
    "MU2(x) = 5 - 0.1 * x;"
   ]
  },
  {
   "cell_type": "markdown",
   "id": "governmental-intro",
   "metadata": {},
   "source": [
    "## Flow utility\n",
    "Constructs a $501 \\times 501$ matrix of flow utility given some utility function defined above"
   ]
  },
  {
   "cell_type": "code",
   "execution_count": 4,
   "id": "revised-things",
   "metadata": {
    "scrolled": true
   },
   "outputs": [
    {
     "data": {
      "text/plain": [
       "#1 (generic function with 1 method)"
      ]
     },
     "execution_count": 4,
     "metadata": {},
     "output_type": "execute_result"
    }
   ],
   "source": [
    "find_flow = function(ufn)\n",
    "    flow_U = zeros(size(S,1), size(A,1));\n",
    "    for i in 1:size(S,1) #stock \n",
    "        for j in 1:size(A,1) #extraction\n",
    "            if j <= i \n",
    "                flow_U[i,j] = ufn(A[j])\n",
    "            else \n",
    "               flow_U[i,j] = -99999 # if j > i, i.e. extraction > stock, utility is -inf  \n",
    "            end\n",
    "        end\n",
    "    end\n",
    "    \n",
    "    return flow_U\n",
    "end\n"
   ]
  },
  {
   "cell_type": "markdown",
   "id": "fewer-writer",
   "metadata": {},
   "source": [
    "## Find index of state in $t+1$ given action in $t$"
   ]
  },
  {
   "cell_type": "code",
   "execution_count": 5,
   "id": "difficult-member",
   "metadata": {},
   "outputs": [],
   "source": [
    "state_index_t1 = zeros(size(S,1), size(A,1))\n",
    "\n",
    "for i in 1:size(S,1)\n",
    "    for j in 1:size(A,1)\n",
    "        if j <= i\n",
    "            left = S[i] - A[j]\n",
    "            state_index_t1[i,j] = findall(x->x==left, S)[1]\n",
    "        else\n",
    "            state_index_t1[i,j] = 1 # it will be stock = 0 if I try to extract more than I have\n",
    "         end\n",
    "    end\n",
    "end\n"
   ]
  },
  {
   "cell_type": "markdown",
   "id": "little-father",
   "metadata": {},
   "source": [
    "## Construct transition matrix\n",
    "The sparse matrix is created by pushing the row and column indices with nonzero entries. There's definitely a better way of doing this rather than looping over all rows and columns. There's also a smarter way to get the correct column index without creating this `colindex` item and have it clunk up memory..."
   ]
  },
  {
   "cell_type": "code",
   "execution_count": 6,
   "id": "soviet-elements",
   "metadata": {},
   "outputs": [],
   "source": [
    "# you need to find the state + action index of each column index\n",
    "colindex = []\n",
    "iter = 0 \n",
    "for j in 1:size(A, 1)\n",
    "    for i in 1:size(S,1)\n",
    "        iter += 1 \n",
    "        push!(colindex, [iter, i, j])\n",
    "    end\n",
    "end\n",
    "\n",
    "# i,j = 1 iff state_index_t1 says I transition to j given action A \n",
    "# (this is a horrible way to constructing my sparse matrix but whatever)\n",
    "v = Float64[]\n",
    "r = []\n",
    "c = []\n",
    "for i in 1:size(S,1)\n",
    "    for j in 1:size(colindex,1)\n",
    "        if state_index_t1[i,colindex[j][3]] == colindex[j][2]\n",
    "            push!(r, i)\n",
    "            push!(c, colindex[j][1])\n",
    "            push!(v, 1)\n",
    "        end\n",
    "    end\n",
    "end"
   ]
  },
  {
   "cell_type": "code",
   "execution_count": 7,
   "id": "funky-class",
   "metadata": {
    "scrolled": true
   },
   "outputs": [
    {
     "data": {
      "text/plain": [
       "501×250501 SparseMatrixCSC{Float64, Int64} with 251001 stored entries:\n",
       "⠛⠛⠛⠛⠛⠛⠛⠛⠛⠛⠛⠛⠛⠛⠛⠛⠛⠛⠛⠛⠛⠛⠛⠛⠛⠛⠛⠛⠛⠛⠛⠛⠛⠛⠛⠛⠛⠛⠛⠛"
      ]
     },
     "execution_count": 7,
     "metadata": {},
     "output_type": "execute_result"
    }
   ],
   "source": [
    "T = sparse(r, c, v)"
   ]
  },
  {
   "cell_type": "markdown",
   "id": "processed-warrant",
   "metadata": {},
   "source": [
    "## Iterating function\n",
    "The Bellman operator here is: $$ TV(S) = \\max_{a \\in A} u(a) + \\delta E[V(S')] $$ such that $S' = S - a$"
   ]
  },
  {
   "cell_type": "code",
   "execution_count": 8,
   "id": "comfortable-paste",
   "metadata": {},
   "outputs": [
    {
     "data": {
      "text/plain": [
       "#5 (generic function with 1 method)"
      ]
     },
     "execution_count": 8,
     "metadata": {},
     "output_type": "execute_result"
    }
   ],
   "source": [
    "iterate_wrapper = function(utility_fn, discount, tol, transition, S, A)\n",
    "    U = find_flow(utility_fn)\n",
    "    global V = zeros(size(S,1))\n",
    "    δ = discount\n",
    "    err = 1\n",
    "    iter = 0\n",
    "    \n",
    "    while err > tol\n",
    "        iter += 1\n",
    "        V_old = copy(V)\n",
    "        \n",
    "        # calculate v_next given each action\n",
    "        Vₙₑₓₜ = zeros(size(S,1), size(A,1))\n",
    "        for x in 1:size(A,1)-1\n",
    "            Vₙₑₓₜ[:,x] = transition[:, 1+size(S,1) * (x-1):501+size(S,1) * (x-1)] * V_old\n",
    "        end\n",
    "        \n",
    "        # find optimal action over each state and action \n",
    "        global V = maximum(U + δ .* Vₙₑₓₜ, dims=2) \n",
    "        global gₖ = argmax(U + δ .* Vₙₑₓₜ, dims=2)\n",
    "\n",
    "        #println(maximum(abs.(v .- v_old)))\n",
    "        err = maximum(abs.(V .- V_old))\n",
    "    end\n",
    "    \n",
    "    return [V, gₖ, err, iter]\n",
    "end"
   ]
  },
  {
   "cell_type": "markdown",
   "id": "conceptual-insulation",
   "metadata": {},
   "source": [
    "## Actually answering Q1"
   ]
  },
  {
   "cell_type": "markdown",
   "id": "defined-nirvana",
   "metadata": {},
   "source": [
    "Find optimal control"
   ]
  },
  {
   "cell_type": "code",
   "execution_count": 9,
   "id": "attached-alexandria",
   "metadata": {
    "scrolled": true
   },
   "outputs": [],
   "source": [
    "results1 = iterate_wrapper(U1, δ, 1e-5, T, S, A);\n",
    "results2 = iterate_wrapper(U2, δ, 1e-5, T, S, A);"
   ]
  },
  {
   "cell_type": "markdown",
   "id": "intelligent-defensive",
   "metadata": {},
   "source": [
    "Simulate extraction and price path"
   ]
  },
  {
   "cell_type": "code",
   "execution_count": 10,
   "id": "assisted-congress",
   "metadata": {},
   "outputs": [
    {
     "data": {
      "text/plain": [
       "#7 (generic function with 1 method)"
      ]
     },
     "execution_count": 10,
     "metadata": {},
     "output_type": "execute_result"
    }
   ],
   "source": [
    "simulate_paths = function(oc, S, A, initial, time, utility)\n",
    "    stock = initial\n",
    "    df = zeros(time, 3)\n",
    "    \n",
    "    for t=1:time\n",
    "        state_i = findall(x->x==stock, S)[1]\n",
    "        action_j = oc[state_i][2]\n",
    "        stock = stock - A[action_j]\n",
    "        price = utility(A[action_j])\n",
    "        df[t, :] = [t, A[action_j], price]\n",
    "    end\n",
    "    \n",
    "    plot(df[:,2], legend=false, ylabel=\"Extraction\", xlabel=\"Time\", \n",
    "        linewidth=1.2)\n",
    "    savefig(\"output/a2_q1_\" * string(utility) *  \"_extraction.pdf\");\n",
    "    plot(df[:,3], legend=false, ylabel=\"Prices\", xlabel=\"Time\", \n",
    "        color=\"darkorange\", linewidth=1.2)\n",
    "    savefig(\"output/a2_q1_\" * string(utility) * \"_prices.pdf\");\n",
    "    \n",
    "end"
   ]
  },
  {
   "cell_type": "markdown",
   "id": "artistic-silly",
   "metadata": {},
   "source": [
    "Plotting paths"
   ]
  },
  {
   "cell_type": "code",
   "execution_count": 11,
   "id": "authorized-mailing",
   "metadata": {},
   "outputs": [],
   "source": [
    "# Change default font\n",
    "plot_font = \"Computer Modern\"\n",
    "default(fontfamily=plot_font)"
   ]
  },
  {
   "cell_type": "code",
   "execution_count": 12,
   "id": "balanced-squad",
   "metadata": {},
   "outputs": [],
   "source": [
    "# U1\n",
    "simulate_paths(results1[2], S, A, 1000, 80, MU1);\n",
    "simulate_paths(results2[2], S, A, 1000, 80, MU2);"
   ]
  },
  {
   "cell_type": "markdown",
   "id": "pharmaceutical-difference",
   "metadata": {},
   "source": [
    "# 2. Interpolating between states"
   ]
  },
  {
   "cell_type": "markdown",
   "id": "worth-footage",
   "metadata": {},
   "source": [
    "## Redefine our state & action space"
   ]
  },
  {
   "cell_type": "code",
   "execution_count": 13,
   "id": "interpreted-occurrence",
   "metadata": {},
   "outputs": [],
   "source": [
    "S = collect(0:2:1000);\n",
    "A = collect(range(0, sqrt(1000), 501)).^2;\n"
   ]
  },
  {
   "cell_type": "markdown",
   "id": "phantom-sullivan",
   "metadata": {},
   "source": [
    "## Find state in $t+1$ given state in $t$\n",
    "For each current state and action pair, push the index to the left and right of the \"in between\" state in $t+1$ and also the weight on the right index."
   ]
  },
  {
   "cell_type": "code",
   "execution_count": 14,
   "id": "turned-pollution",
   "metadata": {},
   "outputs": [],
   "source": [
    "state_index_t1 = Array{Array}(undef, size(S,1), size(A,1))\n",
    "\n",
    "for i in 1:size(S,1)\n",
    "    for j in 1:size(A,1)\n",
    "        if A[j] <= S[i]\n",
    "            left = S[i] - A[j]\n",
    "            # if action lines up exactly with a state \n",
    "            if length(findall(x->x==left, S)) != 0 \n",
    "                state_index_t1[i,j] = [findall(x->x==left, S)[1]]\n",
    "            # try to extract the closest state space on the left and right\n",
    "            else \n",
    "                pos = findfirst(S.-left .>= 0)\n",
    "                neg = pos - 1\n",
    "                \n",
    "                # get the weights since (this is for the right side)\n",
    "                weight = abs(left - S[pos])/abs(S[pos]-S[neg])\n",
    "                state_index_t1[i,j] = [neg, pos, weight]\n",
    "            end \n",
    "        else\n",
    "            state_index_t1[i,j] = [1] # it will be stock = 0 if I try to extract more than I have\n",
    "        end\n",
    "    end\n",
    "end\n"
   ]
  },
  {
   "cell_type": "markdown",
   "id": "sharing-fancy",
   "metadata": {},
   "source": [
    "## Construct transition matrix\n",
    "Given the left & right index and the weighting, simply push if the indices match up in this transition matrix"
   ]
  },
  {
   "cell_type": "code",
   "execution_count": 15,
   "id": "animated-bernard",
   "metadata": {},
   "outputs": [],
   "source": [
    "# Get index of state and action given column number\n",
    "colindex = []\n",
    "iter = 0 \n",
    "for j in 1:size(A, 1)\n",
    "    for i in 1:size(S,1)\n",
    "        iter += 1 \n",
    "        push!(colindex, [iter, i, j])\n",
    "    end\n",
    "end\n",
    "\n",
    "# Transition\n",
    "v = Float64[]\n",
    "r = []\n",
    "c = []\n",
    "for i in 1:size(S,1)\n",
    "    for j in 1:size(colindex,1) \n",
    "        if length(state_index_t1[i,colindex[j][3]])==1\n",
    "            if state_index_t1[i,colindex[j][3]][1] == colindex[j][2]\n",
    "                push!(r, i)\n",
    "                push!(c, colindex[j][1])\n",
    "                push!(v, 1)\n",
    "            end\n",
    "        else \n",
    "            if state_index_t1[i,colindex[j][3]][1] == colindex[j][2]\n",
    "                push!(r, i)\n",
    "                push!(c, colindex[j][1])\n",
    "                push!(v, state_index_t1[i,colindex[j][3]][3])\n",
    "            elseif state_index_t1[i,colindex[j][3]][2] == colindex[j][2]\n",
    "                push!(r, i)\n",
    "                push!(c, colindex[j][1])\n",
    "                push!(v, 1-state_index_t1[i,colindex[j][3]][3])\n",
    "            end\n",
    "        end\n",
    "    end\n",
    "end"
   ]
  },
  {
   "cell_type": "code",
   "execution_count": 16,
   "id": "listed-comfort",
   "metadata": {},
   "outputs": [
    {
     "data": {
      "text/plain": [
       "501×250501 SparseMatrixCSC{Float64, Int64} with 415178 stored entries:\n",
       "⠛⠛⠛⠛⠛⠛⠛⠛⠛⠛⠛⠛⠛⠛⠛⠛⠛⠛⠛⠛⠛⠛⠛⠛⠛⠛⠛⠛⠛⠛⠛⠛⠛⠛⠛⠛⠛⠛⠛⠛"
      ]
     },
     "execution_count": 16,
     "metadata": {},
     "output_type": "execute_result"
    }
   ],
   "source": [
    "T = sparse(r, c, v)"
   ]
  },
  {
   "cell_type": "markdown",
   "id": "british-xerox",
   "metadata": {},
   "source": [
    "## Actually answering Q2\n",
    "The iterating wrapper remains the same from Q1, we just have a different transition matrix in this instance."
   ]
  },
  {
   "cell_type": "code",
   "execution_count": 17,
   "id": "inside-youth",
   "metadata": {
    "scrolled": true
   },
   "outputs": [],
   "source": [
    "result1 = iterate_wrapper(U1, δ, 1e-8, T, S, A);\n",
    "result2 = iterate_wrapper(U2, δ, 1e-8, T, S, A);"
   ]
  },
  {
   "cell_type": "markdown",
   "id": "electric-associate",
   "metadata": {},
   "source": [
    "Simulate time paths"
   ]
  },
  {
   "cell_type": "code",
   "execution_count": 18,
   "id": "adapted-michael",
   "metadata": {},
   "outputs": [],
   "source": [
    "simulate_paths = function(oc, S, A, initial, time, utility) \n",
    "    stock = initial \n",
    "    df=zeros(time, 3)\n",
    "    for t in 1:time\n",
    "        # get index and weight as above \n",
    "        pos = findfirst(S .- stock .>= 0)\n",
    "        neg = pos - 1 \n",
    "        weight = abs(stock - S[neg])/abs(S[pos] - S[neg])\n",
    "        \n",
    "        # calculate the weighted optimal action given the state we are in\n",
    "        action = weight * A[oc[pos][2]] + (1-weight) * A[oc[neg][2]]\n",
    "        stock = stock - action\n",
    "        price = utility(action)\n",
    "        df[t,:] = [t, action, price]\n",
    "    end\n",
    "    \n",
    "    plot(df[:,2], legend=false, ylabel=\"Extraction\", xlabel=\"Time\", \n",
    "        linewidth=1.2)\n",
    "    savefig(\"output/a2_q2_\" * string(utility) *  \"_extraction.pdf\");\n",
    "    plot(df[:,3], legend=false, ylabel=\"Prices\", xlabel=\"Time\", \n",
    "        color=\"darkorange\", linewidth=1.2)\n",
    "    savefig(\"output/a2_q2_\" * string(utility) * \"_prices.pdf\");\n",
    "end;    \n",
    "    "
   ]
  },
  {
   "cell_type": "code",
   "execution_count": 22,
   "id": "alternate-plastic",
   "metadata": {},
   "outputs": [],
   "source": [
    "simulate_paths(result1[2], S, A, 1000, 80, MU1);\n",
    "simulate_paths(result2[2], S, A, 1000, 80, MU2);"
   ]
  },
  {
   "cell_type": "code",
   "execution_count": null,
   "id": "dynamic-mainstream",
   "metadata": {},
   "outputs": [],
   "source": []
  }
 ],
 "metadata": {
  "kernelspec": {
   "display_name": "Julia 1.8.2",
   "language": "julia",
   "name": "julia-1.8"
  },
  "language_info": {
   "file_extension": ".jl",
   "mimetype": "application/julia",
   "name": "julia",
   "version": "1.8.2"
  }
 },
 "nbformat": 4,
 "nbformat_minor": 5
}
