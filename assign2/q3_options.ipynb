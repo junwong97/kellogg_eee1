{
 "cells": [
  {
   "cell_type": "markdown",
   "id": "designing-folder",
   "metadata": {},
   "source": [
    "# Drilling and Real Options"
   ]
  },
  {
   "cell_type": "code",
   "execution_count": 1,
   "id": "sporting-furniture",
   "metadata": {},
   "outputs": [],
   "source": [
    "using LinearAlgebra, BenchmarkTools, SparseArrays, Plots, Distributions\n",
    "cd(\"/Users/junwong/Dropbox/Second Year/Kellogg - Environmental/Assignments\")"
   ]
  },
  {
   "cell_type": "markdown",
   "id": "sharp-portrait",
   "metadata": {},
   "source": [
    "## Set up state space and parameters\n",
    "Ideally we'd set up a parameter space thing and unpack it in the functions, but here we are."
   ]
  },
  {
   "cell_type": "code",
   "execution_count": 2,
   "id": "distributed-sheffield",
   "metadata": {},
   "outputs": [],
   "source": [
    "S = collect(0:80);\n",
    "δ = 1/1.05\n",
    "D = 3000000;\n",
    "X = 100000;\n",
    "profit(P, X, D) = P .* X .- D;\n"
   ]
  },
  {
   "cell_type": "markdown",
   "id": "fifteen-rotation",
   "metadata": {},
   "source": [
    "## State transition matrix"
   ]
  },
  {
   "cell_type": "code",
   "execution_count": 3,
   "id": "forbidden-grant",
   "metadata": {},
   "outputs": [],
   "source": [
    "T = zeros(size(S,1), size(S,1))\n",
    "shock = Normal(0, 4)\n",
    "\n",
    "for i in 1:size(S,1)\n",
    "    tomorrow_cdf = S[i] + shock\n",
    "    for j in 1:size(S,1)\n",
    "        if j == 1\n",
    "            T[i,j] = cdf(tomorrow_cdf, S[j]+0.5)\n",
    "        elseif j == size(S,1)\n",
    "            T[i,j] = 1 - cdf(tomorrow_cdf, S[j]-0.5)\n",
    "        else\n",
    "            T[i,j] = cdf(tomorrow_cdf, S[j]+0.5) - cdf(tomorrow_cdf, S[j]-0.5)\n",
    "        end\n",
    "    end\n",
    "end"
   ]
  },
  {
   "cell_type": "markdown",
   "id": "terminal-hanging",
   "metadata": {},
   "source": [
    "## Iteration\n",
    "The choice variable here is to wait or drill today. $g_k=1$ is drilling today, waiting is $g_k=0$. \n",
    "\n",
    "Given current realization of the price $P_t$, firms solve a simple problem: \n",
    "\n",
    "$$ \\max\\{P_t X - D, E_t[P_{t+1} X - D]\\} $$"
   ]
  },
  {
   "cell_type": "code",
   "execution_count": 4,
   "id": "external-vietnamese",
   "metadata": {},
   "outputs": [],
   "source": [
    "iterate_wrapper = function(S, X, D, discount, tol)\n",
    "    global V = zeros(size(S,1))\n",
    "    err = 1\n",
    "    iter = 0 \n",
    "    δ = discount\n",
    "    \n",
    "    while err > tol\n",
    "        iter += 1\n",
    "        V_old = copy(V)\n",
    "        Vₙₑₓₜ = T * V \n",
    "        global V = max.(profit(S, X, D), δ .* Vₙₑₓₜ)\n",
    "        global gₖ = V.==profit(S,X,D), 1, 0 # 1 is drill now, 0 is wait\n",
    "        err = maximum(abs.(V .- V_old))\n",
    "    end\n",
    "    \n",
    "    return [V, gₖ[1]] \n",
    "end;"
   ]
  },
  {
   "cell_type": "code",
   "execution_count": 5,
   "id": "inappropriate-hindu",
   "metadata": {},
   "outputs": [
    {
     "data": {
      "text/plain": [
       "41"
      ]
     },
     "execution_count": 5,
     "metadata": {},
     "output_type": "execute_result"
    }
   ],
   "source": [
    "# Results\n",
    "results = iterate_wrapper(S, X, D, δ, 1e-5);\n",
    "\n",
    "# Confirm that trigger price is $41\n",
    "S[findfirst(results[2].==1)]"
   ]
  },
  {
   "cell_type": "markdown",
   "id": "arbitrary-deadline",
   "metadata": {},
   "source": [
    "## Plot value function"
   ]
  },
  {
   "cell_type": "code",
   "execution_count": 6,
   "id": "entire-bankruptcy",
   "metadata": {},
   "outputs": [],
   "source": [
    "# Change default font\n",
    "plot_font = \"Computer Modern\"\n",
    "default(fontfamily=plot_font)"
   ]
  },
  {
   "cell_type": "code",
   "execution_count": 7,
   "id": "sound-silence",
   "metadata": {},
   "outputs": [],
   "source": [
    "plot(results[1]./1000000, legend=false, \n",
    "    ylabel=\"Value function (millions)\", xlabel=\"Prices\", linewidth=1.2)\n",
    "plot!([41], seriestype=\"vline\", line=(:dash, 1))\n",
    "savefig(\"output/q3_valuefunction.pdf\");"
   ]
  },
  {
   "cell_type": "code",
   "execution_count": null,
   "id": "lovely-craps",
   "metadata": {},
   "outputs": [],
   "source": []
  }
 ],
 "metadata": {
  "kernelspec": {
   "display_name": "Julia 1.8.2",
   "language": "julia",
   "name": "julia-1.8"
  },
  "language_info": {
   "file_extension": ".jl",
   "mimetype": "application/julia",
   "name": "julia",
   "version": "1.8.2"
  }
 },
 "nbformat": 4,
 "nbformat_minor": 5
}
